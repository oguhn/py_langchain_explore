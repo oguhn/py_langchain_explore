{
 "cells": [
  {
   "cell_type": "code",
   "execution_count": 2,
   "metadata": {},
   "outputs": [
    {
     "name": "stdout",
     "output_type": "stream",
     "text": [
      "Silent serpent code,\n",
      "Slithers through vast data fields,\n",
      "Nature's elegant dance.This haiku beautifully captures the essence of Python, a programming language known for its simplicity, readability, and elegance. The reference to a \"silent serpent code\" evokes Python's smooth and graceful syntax, which allows code to flow seamlessly like a serpent moving through data fields. \n",
      "\n",
      "Python's ability to effortlessly navigate through vast amounts of data is likened to a serpent slithering through fields, showcasing the language's strength in handling large datasets and complex algorithms with ease. The comparison to \"Nature's elegant dance\" emphasizes Python's organic and intuitive nature, mirroring the way it aligns with the natural thought process of a programmer.\n",
      "\n",
      "Just like a serpent moves with precision and agility, Python enables developers to write code that is concise and efficient, making it a preferred language for tasks that require clarity and logic. Overall, this haiku captures the essence of Python as a language that embodies grace, simplicity, and harmony in the world of programming."
     ]
    },
    {
     "data": {
      "text/plain": [
       "AIMessage(content='This haiku beautifully captures the essence of Python, a programming language known for its simplicity, readability, and elegance. The reference to a \"silent serpent code\" evokes Python\\'s smooth and graceful syntax, which allows code to flow seamlessly like a serpent moving through data fields. \\n\\nPython\\'s ability to effortlessly navigate through vast amounts of data is likened to a serpent slithering through fields, showcasing the language\\'s strength in handling large datasets and complex algorithms with ease. The comparison to \"Nature\\'s elegant dance\" emphasizes Python\\'s organic and intuitive nature, mirroring the way it aligns with the natural thought process of a programmer.\\n\\nJust like a serpent moves with precision and agility, Python enables developers to write code that is concise and efficient, making it a preferred language for tasks that require clarity and logic. Overall, this haiku captures the essence of Python as a language that embodies grace, simplicity, and harmony in the world of programming.', additional_kwargs={}, response_metadata={'finish_reason': 'stop'}, id='run-d921eaae-b52d-4725-92a6-7abdadfb1e94-0')"
      ]
     },
     "execution_count": 2,
     "metadata": {},
     "output_type": "execute_result"
    }
   ],
   "source": [
    "from dotenv import load_dotenv\n",
    "\n",
    "from langchain.chat_models import ChatOpenAI\n",
    "from langchain.prompts import ChatPromptTemplate\n",
    "from langchain.callbacks import StreamingStdOutCallbackHandler\n",
    "\n",
    "load_dotenv()\n",
    "\n",
    "chat = ChatOpenAI(\n",
    "    temperature=0.1,\n",
    "    streaming=True,\n",
    "    callbacks=[StreamingStdOutCallbackHandler()]\n",
    ")\n",
    "\n",
    "haiku_prompt = ChatPromptTemplate.from_messages([\n",
    "    (\"system\", \"\"\"You are a poetic assistant specialized in composing Haikus about programming languages.Write a Haiku about the programming language.Capture its essence, philosophy, or cultural impact.Follow the traditional Haiku format: three lines with 5-7-5 syllables.Be creative, subtle, and reflective. Use metaphor and poetic imagery. Avoid direct technical terms or explanations.\"\"\"),\n",
    "    (\"human\", \"I'd like a haiku about {language}.\")\n",
    "])\n",
    "\n",
    "haiku_chain = haiku_prompt | chat\n",
    "\n",
    "explanation_prompt = ChatPromptTemplate.from_messages([\n",
    "    (\"system\", \"\"\"You are a thoughtful literary critic who specializes in interpreting haikus about programming languages.  \n",
    "    Your goal is to explain the deeper meaning, metaphors, and philosophy behind the given haiku.  \n",
    "    Focus on the connection between the poem and the characteristics of the programming language.  \n",
    "    Be insightful, reflective, and clear. Avoid restating the haiku. Uncover the ideas within it. \"\"\"),\n",
    "    (\"human\",\"I'd like an explanation of the haiku: {haiku}\")\n",
    "])\n",
    "\n",
    "explanation_chain = explanation_prompt | chat\n",
    "\n",
    "final_chain = {\"haiku\": haiku_chain} | explanation_chain\n",
    "\n",
    "final_chain.invoke({\"language\": \"Python\"})"
   ]
  }
 ],
 "metadata": {
  "kernelspec": {
   "display_name": ".venv",
   "language": "python",
   "name": "python3"
  },
  "language_info": {
   "codemirror_mode": {
    "name": "ipython",
    "version": 3
   },
   "file_extension": ".py",
   "mimetype": "text/x-python",
   "name": "python",
   "nbconvert_exporter": "python",
   "pygments_lexer": "ipython3",
   "version": "3.13.1"
  }
 },
 "nbformat": 4,
 "nbformat_minor": 2
}
