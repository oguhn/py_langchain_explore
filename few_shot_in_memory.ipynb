{
 "cells": [
  {
   "cell_type": "code",
   "execution_count": 1,
   "metadata": {},
   "outputs": [
    {
     "name": "stderr",
     "output_type": "stream",
     "text": [
      "/var/folders/bb/hwq64p2n5rl8w8dygq6q1xjh0000gn/T/ipykernel_34175/1853161776.py:9: LangChainDeprecationWarning: The class `ChatOpenAI` was deprecated in LangChain 0.0.10 and will be removed in 1.0. An updated version of the class exists in the :class:`~langchain-openai package and should be used instead. To use it run `pip install -U :class:`~langchain-openai` and import as `from :class:`~langchain_openai import ChatOpenAI``.\n",
      "  chat = ChatOpenAI(\n",
      "/var/folders/bb/hwq64p2n5rl8w8dygq6q1xjh0000gn/T/ipykernel_34175/1853161776.py:18: LangChainDeprecationWarning: Please see the migration guide at: https://python.langchain.com/docs/versions/migrating_memory/\n",
      "  memory = ConversationSummaryBufferMemory(\n"
     ]
    }
   ],
   "source": [
    "from langchain.chat_models import ChatOpenAI\n",
    "from langchain.prompts.few_shot import FewShotChatMessagePromptTemplate\n",
    "from langchain.callbacks import StreamingStdOutCallbackHandler\n",
    "from langchain.prompts import ChatPromptTemplate, MessagesPlaceholder\n",
    "from langchain.memory import ConversationSummaryBufferMemory\n",
    "from langchain.schema.runnable import RunnablePassthrough\n",
    "\n",
    "\n",
    "chat = ChatOpenAI(\n",
    "    model_name=\"gpt-3.5-turbo\",\n",
    "    temperature=0.1,\n",
    "    streaming=True,\n",
    "    callbacks=[\n",
    "        StreamingStdOutCallbackHandler(),\n",
    "    ],\n",
    ")\n",
    "\n",
    "memory = ConversationSummaryBufferMemory(\n",
    "    llm=chat,\n",
    "    memory_key=\"summary\",\n",
    "    max_token_limit=100,\n",
    "    return_messages=True,\n",
    "    verbose=True,\n",
    ")\n",
    "\n",
    "\n",
    "examples = [\n",
    "    {\n",
    "        \"movie\": \"Interstellar\",\n",
    "        \"answer\": \"🚀🕳️🌌\"\n",
    "    },\n",
    "    {\n",
    "        \"movie\": \"Frozen\",\n",
    "        \"answer\": \"❄️👭🎶\"\n",
    "    },\n",
    "    {\n",
    "        \"movie\": \"Joker\",\n",
    "        \"answer\": \"🎭🃏🧨\"\n",
    "    },\n",
    "]\n",
    "\n",
    "\n",
    "example_prompt = ChatPromptTemplate.from_messages(\n",
    "    [\n",
    "        (\"human\", \"What emoji best represent the {movie}?\"),\n",
    "        (\"ai\", \"{answer}\"),\n",
    "    ]\n",
    ")\n",
    "\n",
    "example_prompt = FewShotChatMessagePromptTemplate(\n",
    "    example_prompt=example_prompt,\n",
    "    examples=examples,\n",
    ")\n",
    "\n",
    "final_prompt = ChatPromptTemplate.from_messages(\n",
    "    [\n",
    "        (\"system\", \"You are a movie expert. You only reply with three emojis representing the movie.\"),\n",
    "        example_prompt,\n",
    "        MessagesPlaceholder(variable_name=\"summary\"),\n",
    "        (\"human\", \"What do you know about {movie}?\"),\n",
    "    ]\n",
    ")\n",
    "def load_memory(_):\n",
    "    return memory.load_memory_variables({})[\"summary\"]\n",
    "    \n",
    "\n",
    "chain = RunnablePassthrough.assign(summary=load_memory) | final_prompt | chat\n",
    "\n",
    "def invoke_chain(question):\n",
    "    result = chain.invoke({\"movie\": question})\n",
    "    memory.save_context(\n",
    "        {\"input\": question},\n",
    "        {\"output\": result.content},\n",
    "    )\n",
    "    print(result)\n",
    "\n"
   ]
  },
  {
   "cell_type": "code",
   "execution_count": 3,
   "metadata": {},
   "outputs": [
    {
     "name": "stdout",
     "output_type": "stream",
     "text": [
      "🌺🌊🚣‍♀️content='🌺🌊🚣\\u200d♀️' additional_kwargs={} response_metadata={'finish_reason': 'stop'} id='run-3f48823b-e7a1-48bd-a688-c013d71cb161-0'\n"
     ]
    }
   ],
   "source": [
    "\n",
    "invoke_chain(\"Moana\")"
   ]
  },
  {
   "cell_type": "code",
   "execution_count": 2,
   "metadata": {},
   "outputs": [
    {
     "name": "stdout",
     "output_type": "stream",
     "text": [
      "🚢💔🌊content='🚢💔🌊' additional_kwargs={} response_metadata={'finish_reason': 'stop'} id='run-ea6e9195-5862-422d-a47a-de08b97eee7e-0'\n"
     ]
    }
   ],
   "source": [
    "\n",
    "invoke_chain(\"Titanic\")"
   ]
  },
  {
   "cell_type": "code",
   "execution_count": 4,
   "metadata": {},
   "outputs": [
    {
     "name": "stdout",
     "output_type": "stream",
     "text": [
      "Titanic"
     ]
    }
   ],
   "source": [
    "memory_test_prompt = ChatPromptTemplate.from_messages([\n",
    "    (\"system\", \"You are a movie memory bot. You only reply with the title of the first movie asked.\"),\n",
    "    MessagesPlaceholder(variable_name=\"summary\"),\n",
    "    (\"human\",  \"What was the first movie I asked about?\")\n",
    "])\n",
    "memory_test_chain = RunnablePassthrough.assign(summary=load_memory) | memory_test_prompt | chat\n",
    "\n",
    "result = memory_test_chain.invoke({})\n"
   ]
  }
 ],
 "metadata": {
  "kernelspec": {
   "display_name": ".venv",
   "language": "python",
   "name": "python3"
  },
  "language_info": {
   "codemirror_mode": {
    "name": "ipython",
    "version": 3
   },
   "file_extension": ".py",
   "mimetype": "text/x-python",
   "name": "python",
   "nbconvert_exporter": "python",
   "pygments_lexer": "ipython3",
   "version": "3.13.1"
  }
 },
 "nbformat": 4,
 "nbformat_minor": 2
}
