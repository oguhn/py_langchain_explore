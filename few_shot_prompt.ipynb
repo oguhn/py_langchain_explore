{
 "cells": [
  {
   "cell_type": "code",
   "execution_count": 4,
   "metadata": {},
   "outputs": [
    {
     "name": "stdout",
     "output_type": "stream",
     "text": [
      "\n",
      "        Director: The Wachowskis (Lana Wachowski, Lilly Wachowski),\n",
      "        Main Cast: [Keanu Reeves, Laurence Fishburne, Carrie-Anne Moss, Hugo Weaving],\n",
      "        Budget: $63 million,\n",
      "        Box Office: $463 million,\n",
      "        Genre: [Science Fiction, Action],\n",
      "        Synopsis: A computer hacker learns the truth about reality and joins a group of rebels fighting against sentient machines that have enslaved humanity in a simulated reality known as the Matrix."
     ]
    },
    {
     "data": {
      "text/plain": [
       "AIMessage(content='\\n        Director: The Wachowskis (Lana Wachowski, Lilly Wachowski),\\n        Main Cast: [Keanu Reeves, Laurence Fishburne, Carrie-Anne Moss, Hugo Weaving],\\n        Budget: $63 million,\\n        Box Office: $463 million,\\n        Genre: [Science Fiction, Action],\\n        Synopsis: A computer hacker learns the truth about reality and joins a group of rebels fighting against sentient machines that have enslaved humanity in a simulated reality known as the Matrix.', additional_kwargs={}, response_metadata={'finish_reason': 'stop'}, id='run-f8e0b032-ab87-4e45-940d-f9fe6b0c8f0c-0')"
      ]
     },
     "execution_count": 4,
     "metadata": {},
     "output_type": "execute_result"
    }
   ],
   "source": [
    "from langchain.chat_models import ChatOpenAI\n",
    "from langchain.prompts.few_shot import FewShotChatMessagePromptTemplate\n",
    "from langchain.callbacks import StreamingStdOutCallbackHandler\n",
    "from langchain.prompts import ChatPromptTemplate\n",
    "\n",
    "chat = ChatOpenAI(\n",
    "    model_name=\"gpt-3.5-turbo\",\n",
    "    temperature=0.1,\n",
    "    streaming=True,\n",
    "    callbacks=[\n",
    "        StreamingStdOutCallbackHandler(),\n",
    "    ],\n",
    ")\n",
    "\n",
    "\n",
    "examples = [\n",
    "    {\n",
    "        \"movie\": \"Oldboy\",\n",
    "        \"answer\": \"\"\"\n",
    "        Director: Park Chan-wook,\n",
    "        Main Cast: [Choi Min-sik, Yoo Ji-tae, Kang Hye-jung],\n",
    "        Budget: $3 million,\n",
    "        Box Office: $15 million (approx.),\n",
    "        Genre: [Thriller, Mystery, Neo-noir],\n",
    "        Synopsis: After being mysteriously imprisoned in a cell for 15 years, Oh Dae-su is released and must find his captor in five days, uncovering shocking secrets along the way. \n",
    "        \"\"\",\n",
    "    },\n",
    "        {\n",
    "        \"movie\": \"Inception\",\n",
    "        \"answer\": \"\"\"\n",
    "        Director: Christopher Nolan,\n",
    "        Main Cast: [Leonardo DiCaprio, Joseph Gordon-Levitt, Ellen Page, Tom Hardy],\n",
    "        Budget: $160 million,\n",
    "        Box Office: $836 million,\n",
    "        Genre: [Science Fiction, Action, Thriller],\n",
    "        Synopsis: A skilled thief who steals corporate secrets through dream-sharing technology is given the inverse task of planting an idea into the mind of a CEO, leading to a high-stakes journey through layers of dreams.\n",
    "        \"\"\"\n",
    "    },\n",
    "    {\n",
    "        \"movie\": \"Parasite\",\n",
    "        \"answer\": \"\"\"\n",
    "        Director: Bong Joon-ho,\n",
    "        Main Cast: [Song Kang-ho, Lee Sun-kyun, Cho Yeo-jeong, Choi Woo-shik, Park So-dam],\n",
    "        Budget: $11 million,\n",
    "        Box Office: $258 million,\n",
    "        Genre: [Drama, Thriller, Black Comedy],\n",
    "        Synopsis: The impoverished Kim family schemes to infiltrate a wealthy household by posing as unrelated professionals, but their plan spins out of control when secrets unravel between the two families.\n",
    "        \"\"\"\n",
    "    }\n",
    "]\n",
    "\n",
    "\n",
    "example_prompt = ChatPromptTemplate.from_messages(\n",
    "    [\n",
    "        (\"human\", \"What do you know about {movie}?\"),\n",
    "        (\"ai\", \"{answer}\"),\n",
    "    ]\n",
    ")\n",
    "\n",
    "example_prompt = FewShotChatMessagePromptTemplate(\n",
    "    example_prompt=example_prompt,\n",
    "    examples=examples,\n",
    ")\n",
    "\n",
    "final_prompt = ChatPromptTemplate.from_messages(\n",
    "    [\n",
    "        (\"system\", \"You are a movie expert, you give short answers.\"),\n",
    "        example_prompt,\n",
    "        (\"human\", \"What do you know about {movie}?\"),\n",
    "    ]\n",
    ")\n",
    "\n",
    "chain = final_prompt | chat\n",
    "\n",
    "chain.invoke({\"movie\": \"Matrix\"})"
   ]
  }
 ],
 "metadata": {
  "kernelspec": {
   "display_name": ".venv",
   "language": "python",
   "name": "python3"
  },
  "language_info": {
   "codemirror_mode": {
    "name": "ipython",
    "version": 3
   },
   "file_extension": ".py",
   "mimetype": "text/x-python",
   "name": "python",
   "nbconvert_exporter": "python",
   "pygments_lexer": "ipython3",
   "version": "3.13.1"
  }
 },
 "nbformat": 4,
 "nbformat_minor": 2
}
